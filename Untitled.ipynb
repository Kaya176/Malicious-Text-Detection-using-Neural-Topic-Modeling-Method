{
 "cells": [
  {
   "cell_type": "code",
   "execution_count": 1,
   "id": "0174e81f-0148-4706-9754-a8846afa59c8",
   "metadata": {},
   "outputs": [],
   "source": [
    "from sentence_transformers import SentenceTransformer\n",
    "from bertopic import BERTopic\n",
    "import pandas as pd"
   ]
  },
  {
   "cell_type": "code",
   "execution_count": 2,
   "id": "4941b481-f314-4c52-a05d-c79b4fdd0776",
   "metadata": {},
   "outputs": [],
   "source": [
    "#data\n",
    "topic_data = pd.read_csv(\"./data/0.8_topic_data.csv\")\n",
    "text_data = topic_data['text'].tolist()\n",
    "label_data = topic_data['label'].tolist()"
   ]
  },
  {
   "cell_type": "code",
   "execution_count": 3,
   "id": "29351947-33d8-49d6-ba17-4be43b14f59f",
   "metadata": {},
   "outputs": [
    {
     "data": {
      "text/plain": [
       "7276"
      ]
     },
     "execution_count": 3,
     "metadata": {},
     "output_type": "execute_result"
    }
   ],
   "source": [
    "len(topic_data)"
   ]
  },
  {
   "cell_type": "code",
   "execution_count": 4,
   "id": "d6d490a2-c4ee-4cce-836d-d391cbb3da9f",
   "metadata": {},
   "outputs": [
    {
     "data": {
      "application/vnd.jupyter.widget-view+json": {
       "model_id": "28406739926641a89dd7a21f4fc47a1c",
       "version_major": 2,
       "version_minor": 0
      },
      "text/plain": [
       "Downloading:   0%|          | 0.00/1.23k [00:00<?, ?B/s]"
      ]
     },
     "metadata": {},
     "output_type": "display_data"
    },
    {
     "data": {
      "application/vnd.jupyter.widget-view+json": {
       "model_id": "92d8a15917cd423e963ca385be673390",
       "version_major": 2,
       "version_minor": 0
      },
      "text/plain": [
       "Downloading:   0%|          | 0.00/190 [00:00<?, ?B/s]"
      ]
     },
     "metadata": {},
     "output_type": "display_data"
    },
    {
     "data": {
      "application/vnd.jupyter.widget-view+json": {
       "model_id": "fd3a9f8a8f51491d875b31c9d9a921a0",
       "version_major": 2,
       "version_minor": 0
      },
      "text/plain": [
       "Downloading:   0%|          | 0.00/10.7k [00:00<?, ?B/s]"
      ]
     },
     "metadata": {},
     "output_type": "display_data"
    },
    {
     "data": {
      "application/vnd.jupyter.widget-view+json": {
       "model_id": "06eb0aaaf84443089fedb51e51b7b161",
       "version_major": 2,
       "version_minor": 0
      },
      "text/plain": [
       "Downloading:   0%|          | 0.00/612 [00:00<?, ?B/s]"
      ]
     },
     "metadata": {},
     "output_type": "display_data"
    },
    {
     "data": {
      "application/vnd.jupyter.widget-view+json": {
       "model_id": "7bac6c9a3b764a3d9e0ee197bedb33e9",
       "version_major": 2,
       "version_minor": 0
      },
      "text/plain": [
       "Downloading:   0%|          | 0.00/116 [00:00<?, ?B/s]"
      ]
     },
     "metadata": {},
     "output_type": "display_data"
    },
    {
     "data": {
      "application/vnd.jupyter.widget-view+json": {
       "model_id": "2b2cf32d589749d0baed7157d217a2b9",
       "version_major": 2,
       "version_minor": 0
      },
      "text/plain": [
       "Downloading:   0%|          | 0.00/39.3k [00:00<?, ?B/s]"
      ]
     },
     "metadata": {},
     "output_type": "display_data"
    },
    {
     "data": {
      "application/vnd.jupyter.widget-view+json": {
       "model_id": "cb8811d9bb9f4d879949ea493a28dea1",
       "version_major": 2,
       "version_minor": 0
      },
      "text/plain": [
       "Downloading:   0%|          | 0.00/90.9M [00:00<?, ?B/s]"
      ]
     },
     "metadata": {},
     "output_type": "display_data"
    },
    {
     "data": {
      "application/vnd.jupyter.widget-view+json": {
       "model_id": "d0f8c7063fb54df6a5a17c905a34502b",
       "version_major": 2,
       "version_minor": 0
      },
      "text/plain": [
       "Downloading:   0%|          | 0.00/349 [00:00<?, ?B/s]"
      ]
     },
     "metadata": {},
     "output_type": "display_data"
    },
    {
     "data": {
      "application/vnd.jupyter.widget-view+json": {
       "model_id": "c094ba5a15c7458f989a4c701a2b5131",
       "version_major": 2,
       "version_minor": 0
      },
      "text/plain": [
       "Downloading:   0%|          | 0.00/90.4M [00:00<?, ?B/s]"
      ]
     },
     "metadata": {},
     "output_type": "display_data"
    },
    {
     "data": {
      "application/vnd.jupyter.widget-view+json": {
       "model_id": "038c3c579cc54531bbff6397781f1292",
       "version_major": 2,
       "version_minor": 0
      },
      "text/plain": [
       "Downloading:   0%|          | 0.00/90.9M [00:00<?, ?B/s]"
      ]
     },
     "metadata": {},
     "output_type": "display_data"
    },
    {
     "data": {
      "application/vnd.jupyter.widget-view+json": {
       "model_id": "184465bd2e26441fbffb2531033ad038",
       "version_major": 2,
       "version_minor": 0
      },
      "text/plain": [
       "Downloading:   0%|          | 0.00/53.0 [00:00<?, ?B/s]"
      ]
     },
     "metadata": {},
     "output_type": "display_data"
    },
    {
     "data": {
      "application/vnd.jupyter.widget-view+json": {
       "model_id": "d96660492d50427e9a6e29848027f336",
       "version_major": 2,
       "version_minor": 0
      },
      "text/plain": [
       "Downloading:   0%|          | 0.00/112 [00:00<?, ?B/s]"
      ]
     },
     "metadata": {},
     "output_type": "display_data"
    },
    {
     "data": {
      "application/vnd.jupyter.widget-view+json": {
       "model_id": "6fd7283e785d43458998488fa493626a",
       "version_major": 2,
       "version_minor": 0
      },
      "text/plain": [
       "Downloading:   0%|          | 0.00/466k [00:00<?, ?B/s]"
      ]
     },
     "metadata": {},
     "output_type": "display_data"
    },
    {
     "data": {
      "application/vnd.jupyter.widget-view+json": {
       "model_id": "1b85d32a46c346a1af9432d8db6e0228",
       "version_major": 2,
       "version_minor": 0
      },
      "text/plain": [
       "Downloading:   0%|          | 0.00/350 [00:00<?, ?B/s]"
      ]
     },
     "metadata": {},
     "output_type": "display_data"
    },
    {
     "data": {
      "application/vnd.jupyter.widget-view+json": {
       "model_id": "a079b104609e4ac8a5a15b3cba743aba",
       "version_major": 2,
       "version_minor": 0
      },
      "text/plain": [
       "Downloading:   0%|          | 0.00/13.2k [00:00<?, ?B/s]"
      ]
     },
     "metadata": {},
     "output_type": "display_data"
    },
    {
     "data": {
      "application/vnd.jupyter.widget-view+json": {
       "model_id": "f4c794ce4e1f4068b38c2148880970f6",
       "version_major": 2,
       "version_minor": 0
      },
      "text/plain": [
       "Downloading:   0%|          | 0.00/232k [00:00<?, ?B/s]"
      ]
     },
     "metadata": {},
     "output_type": "display_data"
    }
   ],
   "source": [
    "embedding_model = SentenceTransformer(\"all-MiniLM-L6-v2\")\n",
    "topic_model = BERTopic(embedding_model = embedding_model)"
   ]
  },
  {
   "cell_type": "code",
   "execution_count": 5,
   "id": "0601ddb1-272a-4d4e-ba5f-f0d6353429f5",
   "metadata": {},
   "outputs": [],
   "source": [
    "#fit model\n",
    "topics, probs = topic_model.fit_transform(text_data)"
   ]
  },
  {
   "cell_type": "code",
   "execution_count": null,
   "id": "174dd64e-4394-4f24-825c-2ac31aca0ac6",
   "metadata": {},
   "outputs": [],
   "source": []
  },
  {
   "cell_type": "code",
   "execution_count": 10,
   "id": "9254a29b-dcb7-466e-a36e-4b280985bf0f",
   "metadata": {},
   "outputs": [],
   "source": [
    "topic_modeling_result = topic_model.get_topic_info()"
   ]
  },
  {
   "cell_type": "code",
   "execution_count": 11,
   "id": "f39989ae-71ef-4216-91ec-9ddbe56451d0",
   "metadata": {},
   "outputs": [
    {
     "data": {
      "text/html": [
       "<div>\n",
       "<style scoped>\n",
       "    .dataframe tbody tr th:only-of-type {\n",
       "        vertical-align: middle;\n",
       "    }\n",
       "\n",
       "    .dataframe tbody tr th {\n",
       "        vertical-align: top;\n",
       "    }\n",
       "\n",
       "    .dataframe thead th {\n",
       "        text-align: right;\n",
       "    }\n",
       "</style>\n",
       "<table border=\"1\" class=\"dataframe\">\n",
       "  <thead>\n",
       "    <tr style=\"text-align: right;\">\n",
       "      <th></th>\n",
       "      <th>Topic</th>\n",
       "      <th>Count</th>\n",
       "      <th>Name</th>\n",
       "    </tr>\n",
       "  </thead>\n",
       "  <tbody>\n",
       "    <tr>\n",
       "      <th>0</th>\n",
       "      <td>-1</td>\n",
       "      <td>1994</td>\n",
       "      <td>-1_윤지성_너무_크리스탈_아메리카노</td>\n",
       "    </tr>\n",
       "    <tr>\n",
       "      <th>1</th>\n",
       "      <td>0</td>\n",
       "      <td>656</td>\n",
       "      <td>0_시간연장하기_비아그라시알리스_via597_홈페이지</td>\n",
       "    </tr>\n",
       "    <tr>\n",
       "      <th>2</th>\n",
       "      <td>1</td>\n",
       "      <td>590</td>\n",
       "      <td>1_레비트라구입_드래곤가격_정품드레곤구입방법_강력드레곤구입방법</td>\n",
       "    </tr>\n",
       "    <tr>\n",
       "      <th>3</th>\n",
       "      <td>2</td>\n",
       "      <td>587</td>\n",
       "      <td>2_아이스작대기_작대기샘플_얼음작대기_안전한</td>\n",
       "    </tr>\n",
       "    <tr>\n",
       "      <th>4</th>\n",
       "      <td>3</td>\n",
       "      <td>432</td>\n",
       "      <td>3_시간연장하기_비아그라구입º_비아그라시알리스_ikave9ivfw</td>\n",
       "    </tr>\n",
       "    <tr>\n",
       "      <th>...</th>\n",
       "      <td>...</td>\n",
       "      <td>...</td>\n",
       "      <td>...</td>\n",
       "    </tr>\n",
       "    <tr>\n",
       "      <th>76</th>\n",
       "      <td>75</td>\n",
       "      <td>12</td>\n",
       "      <td>75_강다니엘_네이버_출처_naver</td>\n",
       "    </tr>\n",
       "    <tr>\n",
       "      <th>77</th>\n",
       "      <td>76</td>\n",
       "      <td>12</td>\n",
       "      <td>76_힘드렁_네엥_버스정류장이_기본세팅으루</td>\n",
       "    </tr>\n",
       "    <tr>\n",
       "      <th>78</th>\n",
       "      <td>77</td>\n",
       "      <td>12</td>\n",
       "      <td>77_소프트크림_프리코네도_아이스초코토핑_아이스킁림</td>\n",
       "    </tr>\n",
       "    <tr>\n",
       "      <th>79</th>\n",
       "      <td>78</td>\n",
       "      <td>11</td>\n",
       "      <td>78_youtube_썰tv_youtu_video</td>\n",
       "    </tr>\n",
       "    <tr>\n",
       "      <th>80</th>\n",
       "      <td>79</td>\n",
       "      <td>11</td>\n",
       "      <td>79_직거래_xoxoice_전문_ice</td>\n",
       "    </tr>\n",
       "  </tbody>\n",
       "</table>\n",
       "<p>81 rows × 3 columns</p>\n",
       "</div>"
      ],
      "text/plain": [
       "    Topic  Count                                  Name\n",
       "0      -1   1994                  -1_윤지성_너무_크리스탈_아메리카노\n",
       "1       0    656         0_시간연장하기_비아그라시알리스_via597_홈페이지\n",
       "2       1    590    1_레비트라구입_드래곤가격_정품드레곤구입방법_강력드레곤구입방법\n",
       "3       2    587              2_아이스작대기_작대기샘플_얼음작대기_안전한\n",
       "4       3    432  3_시간연장하기_비아그라구입º_비아그라시알리스_ikave9ivfw\n",
       "..    ...    ...                                   ...\n",
       "76     75     12                  75_강다니엘_네이버_출처_naver\n",
       "77     76     12               76_힘드렁_네엥_버스정류장이_기본세팅으루\n",
       "78     77     12          77_소프트크림_프리코네도_아이스초코토핑_아이스킁림\n",
       "79     78     11            78_youtube_썰tv_youtu_video\n",
       "80     79     11                 79_직거래_xoxoice_전문_ice\n",
       "\n",
       "[81 rows x 3 columns]"
      ]
     },
     "execution_count": 11,
     "metadata": {},
     "output_type": "execute_result"
    }
   ],
   "source": [
    "topic_modeling_result"
   ]
  },
  {
   "cell_type": "code",
   "execution_count": 13,
   "id": "7b4f03cf-daf9-4524-b887-e4a82f65efef",
   "metadata": {},
   "outputs": [
    {
     "data": {
      "text/plain": [
       "7276"
      ]
     },
     "execution_count": 13,
     "metadata": {},
     "output_type": "execute_result"
    }
   ],
   "source": [
    "len(topics)"
   ]
  },
  {
   "cell_type": "code",
   "execution_count": 16,
   "id": "c2ce8944-681c-4a89-a479-ea2e5cdad2b9",
   "metadata": {},
   "outputs": [],
   "source": [
    "topic_data['topics'] = topics"
   ]
  },
  {
   "cell_type": "code",
   "execution_count": 34,
   "id": "54ee2b4a-f288-40d1-bda1-7306e0797482",
   "metadata": {},
   "outputs": [],
   "source": [
    "positive = topic_data[topic_data['label'] == 0]\n",
    "negative = topic_data[topic_data['label'] == 1]"
   ]
  },
  {
   "cell_type": "code",
   "execution_count": 51,
   "id": "bfddf256-992c-4d8b-988b-1243a04d8fce",
   "metadata": {},
   "outputs": [],
   "source": [
    "neg_dict = negative['topics'].value_counts().to_dict()"
   ]
  },
  {
   "cell_type": "code",
   "execution_count": 52,
   "id": "59255a38-6c45-43b0-ac0d-3e256c5a8070",
   "metadata": {},
   "outputs": [],
   "source": [
    "pos_dict = positive['topics'].value_counts().to_dict()"
   ]
  },
  {
   "cell_type": "code",
   "execution_count": 53,
   "id": "6fa803aa-44e9-4ab0-9034-c3c96fd5d81c",
   "metadata": {},
   "outputs": [],
   "source": [
    "pos = []\n",
    "neg = []\n",
    "for t in topic_modeling_result['Topic'].to_list():\n",
    "    if t in pos_dict.keys():\n",
    "        pos.append(pos_dict[t])\n",
    "    else:\n",
    "        pos.append(0)\n",
    "    \n",
    "    if t in neg_dict.keys():\n",
    "        neg.append(neg_dict[t])\n",
    "    else:\n",
    "        neg.append(0)\n",
    "else:\n",
    "    topic_modeling_result['positive'] = pos\n",
    "    topic_modeling_result['negative'] = neg"
   ]
  },
  {
   "cell_type": "code",
   "execution_count": 55,
   "id": "84dbe625-c7cc-4902-81dd-e688ac71805e",
   "metadata": {},
   "outputs": [],
   "source": [
    "topic_modeling_result.to_csv(\"topic_result_1.csv\",index = False)"
   ]
  }
 ],
 "metadata": {
  "kernelspec": {
   "display_name": "Python 3 (ipykernel)",
   "language": "python",
   "name": "python3"
  },
  "language_info": {
   "codemirror_mode": {
    "name": "ipython",
    "version": 3
   },
   "file_extension": ".py",
   "mimetype": "text/x-python",
   "name": "python",
   "nbconvert_exporter": "python",
   "pygments_lexer": "ipython3",
   "version": "3.7.6"
  }
 },
 "nbformat": 4,
 "nbformat_minor": 5
}
