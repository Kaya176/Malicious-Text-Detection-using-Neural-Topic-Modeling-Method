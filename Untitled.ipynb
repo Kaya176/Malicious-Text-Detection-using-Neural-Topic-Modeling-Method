{
 "cells": [
  {
   "cell_type": "code",
   "execution_count": 16,
   "id": "0174e81f-0148-4706-9754-a8846afa59c8",
   "metadata": {},
   "outputs": [],
   "source": [
    "from sentence_transformers import SentenceTransformer\n",
    "from bertopic import BERTopic\n",
    "import pandas as pd\n",
    "import numpy as np"
   ]
  },
  {
   "cell_type": "code",
   "execution_count": 2,
   "id": "4941b481-f314-4c52-a05d-c79b4fdd0776",
   "metadata": {},
   "outputs": [],
   "source": [
    "#data\n",
    "topic_data = pd.read_csv(\"./data/0.8_topic_data.csv\")\n",
    "text_data = topic_data['text'].tolist()\n",
    "label_data = topic_data['label'].tolist()"
   ]
  },
  {
   "cell_type": "code",
   "execution_count": 3,
   "id": "29351947-33d8-49d6-ba17-4be43b14f59f",
   "metadata": {},
   "outputs": [
    {
     "data": {
      "text/plain": [
       "7276"
      ]
     },
     "execution_count": 3,
     "metadata": {},
     "output_type": "execute_result"
    }
   ],
   "source": [
    "len(topic_data)"
   ]
  },
  {
   "cell_type": "code",
   "execution_count": 4,
   "id": "d6d490a2-c4ee-4cce-836d-d391cbb3da9f",
   "metadata": {},
   "outputs": [],
   "source": [
    "embedding_model = SentenceTransformer(\"all-MiniLM-L6-v2\")\n",
    "topic_model = BERTopic(embedding_model = embedding_model)"
   ]
  },
  {
   "cell_type": "code",
   "execution_count": 5,
   "id": "0601ddb1-272a-4d4e-ba5f-f0d6353429f5",
   "metadata": {},
   "outputs": [],
   "source": [
    "#fit model\n",
    "topics, probs = topic_model.fit_transform(text_data)"
   ]
  },
  {
   "cell_type": "code",
   "execution_count": 15,
   "id": "174dd64e-4394-4f24-825c-2ac31aca0ac6",
   "metadata": {},
   "outputs": [
    {
     "data": {
      "text/plain": [
       "Unnamed: 0                                             12570\n",
       "index                                                 \"크리스탈\"\n",
       "user_name                                     Flowright_FF14\n",
       "date                                     2018-08-28 08:40:11\n",
       "text          헉머야 크리스탈샵 6시까지 점검ㅁ이네ㅔ... 6시 정각에 서버 이전권 사야겟다 ㅜㅜ\n",
       "label                                                      0\n",
       "Name: 0, dtype: object"
      ]
     },
     "execution_count": 15,
     "metadata": {},
     "output_type": "execute_result"
    }
   ],
   "source": [
    "topic_data.loc[0]"
   ]
  },
  {
   "cell_type": "code",
   "execution_count": 30,
   "id": "9254a29b-dcb7-466e-a36e-4b280985bf0f",
   "metadata": {},
   "outputs": [],
   "source": [
    "topic_modeling_result = topic_model.get_topic_info()"
   ]
  },
  {
   "cell_type": "code",
   "execution_count": 31,
   "id": "f39989ae-71ef-4216-91ec-9ddbe56451d0",
   "metadata": {},
   "outputs": [
    {
     "data": {
      "text/html": [
       "<div>\n",
       "<style scoped>\n",
       "    .dataframe tbody tr th:only-of-type {\n",
       "        vertical-align: middle;\n",
       "    }\n",
       "\n",
       "    .dataframe tbody tr th {\n",
       "        vertical-align: top;\n",
       "    }\n",
       "\n",
       "    .dataframe thead th {\n",
       "        text-align: right;\n",
       "    }\n",
       "</style>\n",
       "<table border=\"1\" class=\"dataframe\">\n",
       "  <thead>\n",
       "    <tr style=\"text-align: right;\">\n",
       "      <th></th>\n",
       "      <th>Topic</th>\n",
       "      <th>Count</th>\n",
       "      <th>Name</th>\n",
       "    </tr>\n",
       "  </thead>\n",
       "  <tbody>\n",
       "    <tr>\n",
       "      <th>0</th>\n",
       "      <td>-1</td>\n",
       "      <td>2341</td>\n",
       "      <td>-1_윤지성_너무_크리스탈_아메리카노</td>\n",
       "    </tr>\n",
       "    <tr>\n",
       "      <th>1</th>\n",
       "      <td>0</td>\n",
       "      <td>653</td>\n",
       "      <td>0_시간연장하기_비아그라시알리스_gyr_0322_jhgzxowx5d</td>\n",
       "    </tr>\n",
       "    <tr>\n",
       "      <th>2</th>\n",
       "      <td>1</td>\n",
       "      <td>612</td>\n",
       "      <td>1_드래곤판매_강력드레곤구입방법_레비트라구입_정품드레곤구입방법</td>\n",
       "    </tr>\n",
       "    <tr>\n",
       "      <th>3</th>\n",
       "      <td>2</td>\n",
       "      <td>413</td>\n",
       "      <td>2_ztx2q8ezt4_zryirvb99j_ksxaw68xsm_goxzjwf1yz</td>\n",
       "    </tr>\n",
       "    <tr>\n",
       "      <th>4</th>\n",
       "      <td>3</td>\n",
       "      <td>364</td>\n",
       "      <td>3_도리_도리도리도리_도리도리도리도리_도리도리</td>\n",
       "    </tr>\n",
       "    <tr>\n",
       "      <th>...</th>\n",
       "      <td>...</td>\n",
       "      <td>...</td>\n",
       "      <td>...</td>\n",
       "    </tr>\n",
       "    <tr>\n",
       "      <th>84</th>\n",
       "      <td>83</td>\n",
       "      <td>10</td>\n",
       "      <td>83_인숙타엔_식권으로_급하게더워져서그런가_시원타</td>\n",
       "    </tr>\n",
       "    <tr>\n",
       "      <th>85</th>\n",
       "      <td>84</td>\n",
       "      <td>10</td>\n",
       "      <td>84_태형_저장_taehyung_gif</td>\n",
       "    </tr>\n",
       "    <tr>\n",
       "      <th>86</th>\n",
       "      <td>85</td>\n",
       "      <td>10</td>\n",
       "      <td>85_돌려줄게요_버릴러구_미안해요_손슈건은</td>\n",
       "    </tr>\n",
       "    <tr>\n",
       "      <th>87</th>\n",
       "      <td>86</td>\n",
       "      <td>10</td>\n",
       "      <td>86_원래_졸린거_천원이_하지뭐</td>\n",
       "    </tr>\n",
       "    <tr>\n",
       "      <th>88</th>\n",
       "      <td>87</td>\n",
       "      <td>10</td>\n",
       "      <td>87_갬져지만_정확한데요_절망하다가_드네하실래여</td>\n",
       "    </tr>\n",
       "  </tbody>\n",
       "</table>\n",
       "<p>89 rows × 3 columns</p>\n",
       "</div>"
      ],
      "text/plain": [
       "    Topic  Count                                           Name\n",
       "0      -1   2341                           -1_윤지성_너무_크리스탈_아메리카노\n",
       "1       0    653          0_시간연장하기_비아그라시알리스_gyr_0322_jhgzxowx5d\n",
       "2       1    612             1_드래곤판매_강력드레곤구입방법_레비트라구입_정품드레곤구입방법\n",
       "3       2    413  2_ztx2q8ezt4_zryirvb99j_ksxaw68xsm_goxzjwf1yz\n",
       "4       3    364                      3_도리_도리도리도리_도리도리도리도리_도리도리\n",
       "..    ...    ...                                            ...\n",
       "84     83     10                    83_인숙타엔_식권으로_급하게더워져서그런가_시원타\n",
       "85     84     10                          84_태형_저장_taehyung_gif\n",
       "86     85     10                        85_돌려줄게요_버릴러구_미안해요_손슈건은\n",
       "87     86     10                              86_원래_졸린거_천원이_하지뭐\n",
       "88     87     10                     87_갬져지만_정확한데요_절망하다가_드네하실래여\n",
       "\n",
       "[89 rows x 3 columns]"
      ]
     },
     "execution_count": 31,
     "metadata": {},
     "output_type": "execute_result"
    }
   ],
   "source": [
    "topic_modeling_result"
   ]
  },
  {
   "cell_type": "code",
   "execution_count": 32,
   "id": "7b4f03cf-daf9-4524-b887-e4a82f65efef",
   "metadata": {},
   "outputs": [
    {
     "data": {
      "text/plain": [
       "7276"
      ]
     },
     "execution_count": 32,
     "metadata": {},
     "output_type": "execute_result"
    }
   ],
   "source": [
    "len(topics)"
   ]
  },
  {
   "cell_type": "code",
   "execution_count": 49,
   "id": "e60912f8-139a-4111-83e8-bfc62bd2d4d0",
   "metadata": {},
   "outputs": [],
   "source": [
    "topic_modeling_result['test'] = np.zeros(89,dtype = int)"
   ]
  },
  {
   "cell_type": "code",
   "execution_count": 50,
   "id": "eacf4b74-43ad-4a68-bbf6-2a863f44a028",
   "metadata": {},
   "outputs": [],
   "source": [
    "topic_modeling_result.loc[topic_modeling_result['Count'] == 653,'test'] = 100"
   ]
  },
  {
   "cell_type": "code",
   "execution_count": 51,
   "id": "0c72e579-0cb0-4a7c-8ef4-3ce24a65f158",
   "metadata": {},
   "outputs": [
    {
     "data": {
      "text/html": [
       "<div>\n",
       "<style scoped>\n",
       "    .dataframe tbody tr th:only-of-type {\n",
       "        vertical-align: middle;\n",
       "    }\n",
       "\n",
       "    .dataframe tbody tr th {\n",
       "        vertical-align: top;\n",
       "    }\n",
       "\n",
       "    .dataframe thead th {\n",
       "        text-align: right;\n",
       "    }\n",
       "</style>\n",
       "<table border=\"1\" class=\"dataframe\">\n",
       "  <thead>\n",
       "    <tr style=\"text-align: right;\">\n",
       "      <th></th>\n",
       "      <th>Topic</th>\n",
       "      <th>Count</th>\n",
       "      <th>Name</th>\n",
       "      <th>test</th>\n",
       "    </tr>\n",
       "  </thead>\n",
       "  <tbody>\n",
       "    <tr>\n",
       "      <th>0</th>\n",
       "      <td>-1</td>\n",
       "      <td>2341</td>\n",
       "      <td>-1_윤지성_너무_크리스탈_아메리카노</td>\n",
       "      <td>0</td>\n",
       "    </tr>\n",
       "    <tr>\n",
       "      <th>1</th>\n",
       "      <td>0</td>\n",
       "      <td>653</td>\n",
       "      <td>0_시간연장하기_비아그라시알리스_gyr_0322_jhgzxowx5d</td>\n",
       "      <td>100</td>\n",
       "    </tr>\n",
       "    <tr>\n",
       "      <th>2</th>\n",
       "      <td>1</td>\n",
       "      <td>612</td>\n",
       "      <td>1_드래곤판매_강력드레곤구입방법_레비트라구입_정품드레곤구입방법</td>\n",
       "      <td>0</td>\n",
       "    </tr>\n",
       "    <tr>\n",
       "      <th>3</th>\n",
       "      <td>2</td>\n",
       "      <td>413</td>\n",
       "      <td>2_ztx2q8ezt4_zryirvb99j_ksxaw68xsm_goxzjwf1yz</td>\n",
       "      <td>0</td>\n",
       "    </tr>\n",
       "    <tr>\n",
       "      <th>4</th>\n",
       "      <td>3</td>\n",
       "      <td>364</td>\n",
       "      <td>3_도리_도리도리도리_도리도리도리도리_도리도리</td>\n",
       "      <td>0</td>\n",
       "    </tr>\n",
       "    <tr>\n",
       "      <th>...</th>\n",
       "      <td>...</td>\n",
       "      <td>...</td>\n",
       "      <td>...</td>\n",
       "      <td>...</td>\n",
       "    </tr>\n",
       "    <tr>\n",
       "      <th>84</th>\n",
       "      <td>83</td>\n",
       "      <td>10</td>\n",
       "      <td>83_인숙타엔_식권으로_급하게더워져서그런가_시원타</td>\n",
       "      <td>0</td>\n",
       "    </tr>\n",
       "    <tr>\n",
       "      <th>85</th>\n",
       "      <td>84</td>\n",
       "      <td>10</td>\n",
       "      <td>84_태형_저장_taehyung_gif</td>\n",
       "      <td>0</td>\n",
       "    </tr>\n",
       "    <tr>\n",
       "      <th>86</th>\n",
       "      <td>85</td>\n",
       "      <td>10</td>\n",
       "      <td>85_돌려줄게요_버릴러구_미안해요_손슈건은</td>\n",
       "      <td>0</td>\n",
       "    </tr>\n",
       "    <tr>\n",
       "      <th>87</th>\n",
       "      <td>86</td>\n",
       "      <td>10</td>\n",
       "      <td>86_원래_졸린거_천원이_하지뭐</td>\n",
       "      <td>0</td>\n",
       "    </tr>\n",
       "    <tr>\n",
       "      <th>88</th>\n",
       "      <td>87</td>\n",
       "      <td>10</td>\n",
       "      <td>87_갬져지만_정확한데요_절망하다가_드네하실래여</td>\n",
       "      <td>0</td>\n",
       "    </tr>\n",
       "  </tbody>\n",
       "</table>\n",
       "<p>89 rows × 4 columns</p>\n",
       "</div>"
      ],
      "text/plain": [
       "    Topic  Count                                           Name  test\n",
       "0      -1   2341                           -1_윤지성_너무_크리스탈_아메리카노     0\n",
       "1       0    653          0_시간연장하기_비아그라시알리스_gyr_0322_jhgzxowx5d   100\n",
       "2       1    612             1_드래곤판매_강력드레곤구입방법_레비트라구입_정품드레곤구입방법     0\n",
       "3       2    413  2_ztx2q8ezt4_zryirvb99j_ksxaw68xsm_goxzjwf1yz     0\n",
       "4       3    364                      3_도리_도리도리도리_도리도리도리도리_도리도리     0\n",
       "..    ...    ...                                            ...   ...\n",
       "84     83     10                    83_인숙타엔_식권으로_급하게더워져서그런가_시원타     0\n",
       "85     84     10                          84_태형_저장_taehyung_gif     0\n",
       "86     85     10                        85_돌려줄게요_버릴러구_미안해요_손슈건은     0\n",
       "87     86     10                              86_원래_졸린거_천원이_하지뭐     0\n",
       "88     87     10                     87_갬져지만_정확한데요_절망하다가_드네하실래여     0\n",
       "\n",
       "[89 rows x 4 columns]"
      ]
     },
     "execution_count": 51,
     "metadata": {},
     "output_type": "execute_result"
    }
   ],
   "source": [
    "topic_modeling_result"
   ]
  },
  {
   "cell_type": "code",
   "execution_count": 16,
   "id": "c2ce8944-681c-4a89-a479-ea2e5cdad2b9",
   "metadata": {},
   "outputs": [],
   "source": [
    "topic_data['topics'] = topics"
   ]
  },
  {
   "cell_type": "code",
   "execution_count": 34,
   "id": "54ee2b4a-f288-40d1-bda1-7306e0797482",
   "metadata": {},
   "outputs": [],
   "source": [
    "positive = topic_data[topic_data['label'] == 0]\n",
    "negative = topic_data[topic_data['label'] == 1]"
   ]
  },
  {
   "cell_type": "code",
   "execution_count": 51,
   "id": "bfddf256-992c-4d8b-988b-1243a04d8fce",
   "metadata": {},
   "outputs": [],
   "source": [
    "neg_dict = negative['topics'].value_counts().to_dict()"
   ]
  },
  {
   "cell_type": "code",
   "execution_count": 52,
   "id": "59255a38-6c45-43b0-ac0d-3e256c5a8070",
   "metadata": {},
   "outputs": [],
   "source": [
    "pos_dict = positive['topics'].value_counts().to_dict()"
   ]
  },
  {
   "cell_type": "code",
   "execution_count": 53,
   "id": "6fa803aa-44e9-4ab0-9034-c3c96fd5d81c",
   "metadata": {},
   "outputs": [],
   "source": [
    "pos = []\n",
    "neg = []\n",
    "for t in topic_modeling_result['Topic'].to_list():\n",
    "    if t in pos_dict.keys():\n",
    "        pos.append(pos_dict[t])\n",
    "    else:\n",
    "        pos.append(0)\n",
    "    \n",
    "    if t in neg_dict.keys():\n",
    "        neg.append(neg_dict[t])\n",
    "    else:\n",
    "        neg.append(0)\n",
    "else:\n",
    "    topic_modeling_result['positive'] = pos\n",
    "    topic_modeling_result['negative'] = neg"
   ]
  },
  {
   "cell_type": "code",
   "execution_count": 55,
   "id": "84dbe625-c7cc-4902-81dd-e688ac71805e",
   "metadata": {},
   "outputs": [],
   "source": [
    "topic_modeling_result.to_csv(\"topic_result_1.csv\",index = False)"
   ]
  },
  {
   "cell_type": "code",
   "execution_count": null,
   "id": "a6c40ec1-d74b-47d5-8433-cf5ff90f646a",
   "metadata": {},
   "outputs": [],
   "source": []
  }
 ],
 "metadata": {
  "kernelspec": {
   "display_name": "Python 3 (ipykernel)",
   "language": "python",
   "name": "python3"
  },
  "language_info": {
   "codemirror_mode": {
    "name": "ipython",
    "version": 3
   },
   "file_extension": ".py",
   "mimetype": "text/x-python",
   "name": "python",
   "nbconvert_exporter": "python",
   "pygments_lexer": "ipython3",
   "version": "3.7.6"
  }
 },
 "nbformat": 4,
 "nbformat_minor": 5
}
